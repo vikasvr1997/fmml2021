{
  "nbformat": 4,
  "nbformat_minor": 0,
  "metadata": {
    "colab": {
      "name": "Lab 17.ipynb",
      "provenance": [],
      "collapsed_sections": [
        "0HjQRq6bVNtG",
        "IWI03dYYR2xf",
        "xQqIVNVYnA90",
        "45jHKIHt6iM-"
      ],
      "include_colab_link": true
    },
    "kernelspec": {
      "name": "python3",
      "display_name": "Python 3"
    },
    "language_info": {
      "name": "python"
    },
    "accelerator": "GPU",
    "widgets": {
      "application/vnd.jupyter.widget-state+json": {
        "ab78d6c552aa4bf394ac1e65d3c9bf92": {
          "model_module": "@jupyter-widgets/controls",
          "model_name": "HBoxModel",
          "model_module_version": "1.5.0",
          "state": {
            "_dom_classes": [],
            "_model_module": "@jupyter-widgets/controls",
            "_model_module_version": "1.5.0",
            "_model_name": "HBoxModel",
            "_view_count": null,
            "_view_module": "@jupyter-widgets/controls",
            "_view_module_version": "1.5.0",
            "_view_name": "HBoxView",
            "box_style": "",
            "children": [
              "IPY_MODEL_5c9218a8b8914a3d833eaf450cb0b98e",
              "IPY_MODEL_9738b0de418d40348b2a41e9529537fb",
              "IPY_MODEL_901b3b03bc9a46419543f04c9de70c90"
            ],
            "layout": "IPY_MODEL_c477c01abe7845cdbd01356a09c25bea"
          }
        },
        "5c9218a8b8914a3d833eaf450cb0b98e": {
          "model_module": "@jupyter-widgets/controls",
          "model_name": "HTMLModel",
          "model_module_version": "1.5.0",
          "state": {
            "_dom_classes": [],
            "_model_module": "@jupyter-widgets/controls",
            "_model_module_version": "1.5.0",
            "_model_name": "HTMLModel",
            "_view_count": null,
            "_view_module": "@jupyter-widgets/controls",
            "_view_module_version": "1.5.0",
            "_view_name": "HTMLView",
            "description": "",
            "description_tooltip": null,
            "layout": "IPY_MODEL_6ce93ca625984577bf52903362f47ed5",
            "placeholder": "​",
            "style": "IPY_MODEL_232eb33320cf4d388e0730b6867ee0e7",
            "value": "100%"
          }
        },
        "9738b0de418d40348b2a41e9529537fb": {
          "model_module": "@jupyter-widgets/controls",
          "model_name": "FloatProgressModel",
          "model_module_version": "1.5.0",
          "state": {
            "_dom_classes": [],
            "_model_module": "@jupyter-widgets/controls",
            "_model_module_version": "1.5.0",
            "_model_name": "FloatProgressModel",
            "_view_count": null,
            "_view_module": "@jupyter-widgets/controls",
            "_view_module_version": "1.5.0",
            "_view_name": "ProgressView",
            "bar_style": "success",
            "description": "",
            "description_tooltip": null,
            "layout": "IPY_MODEL_69ba280470a5465795f185e579fa49bc",
            "max": 46830571,
            "min": 0,
            "orientation": "horizontal",
            "style": "IPY_MODEL_aa1fe42f8ca14cd7aa96c03dc0452cba",
            "value": 46830571
          }
        },
        "901b3b03bc9a46419543f04c9de70c90": {
          "model_module": "@jupyter-widgets/controls",
          "model_name": "HTMLModel",
          "model_module_version": "1.5.0",
          "state": {
            "_dom_classes": [],
            "_model_module": "@jupyter-widgets/controls",
            "_model_module_version": "1.5.0",
            "_model_name": "HTMLModel",
            "_view_count": null,
            "_view_module": "@jupyter-widgets/controls",
            "_view_module_version": "1.5.0",
            "_view_name": "HTMLView",
            "description": "",
            "description_tooltip": null,
            "layout": "IPY_MODEL_86d137f5941f4c02b31eaa5a215ec372",
            "placeholder": "​",
            "style": "IPY_MODEL_2e0dad29151a4924bf0aaee40f0179e1",
            "value": " 44.7M/44.7M [00:00&lt;00:00, 71.4MB/s]"
          }
        },
        "c477c01abe7845cdbd01356a09c25bea": {
          "model_module": "@jupyter-widgets/base",
          "model_name": "LayoutModel",
          "model_module_version": "1.2.0",
          "state": {
            "_model_module": "@jupyter-widgets/base",
            "_model_module_version": "1.2.0",
            "_model_name": "LayoutModel",
            "_view_count": null,
            "_view_module": "@jupyter-widgets/base",
            "_view_module_version": "1.2.0",
            "_view_name": "LayoutView",
            "align_content": null,
            "align_items": null,
            "align_self": null,
            "border": null,
            "bottom": null,
            "display": null,
            "flex": null,
            "flex_flow": null,
            "grid_area": null,
            "grid_auto_columns": null,
            "grid_auto_flow": null,
            "grid_auto_rows": null,
            "grid_column": null,
            "grid_gap": null,
            "grid_row": null,
            "grid_template_areas": null,
            "grid_template_columns": null,
            "grid_template_rows": null,
            "height": null,
            "justify_content": null,
            "justify_items": null,
            "left": null,
            "margin": null,
            "max_height": null,
            "max_width": null,
            "min_height": null,
            "min_width": null,
            "object_fit": null,
            "object_position": null,
            "order": null,
            "overflow": null,
            "overflow_x": null,
            "overflow_y": null,
            "padding": null,
            "right": null,
            "top": null,
            "visibility": null,
            "width": null
          }
        },
        "6ce93ca625984577bf52903362f47ed5": {
          "model_module": "@jupyter-widgets/base",
          "model_name": "LayoutModel",
          "model_module_version": "1.2.0",
          "state": {
            "_model_module": "@jupyter-widgets/base",
            "_model_module_version": "1.2.0",
            "_model_name": "LayoutModel",
            "_view_count": null,
            "_view_module": "@jupyter-widgets/base",
            "_view_module_version": "1.2.0",
            "_view_name": "LayoutView",
            "align_content": null,
            "align_items": null,
            "align_self": null,
            "border": null,
            "bottom": null,
            "display": null,
            "flex": null,
            "flex_flow": null,
            "grid_area": null,
            "grid_auto_columns": null,
            "grid_auto_flow": null,
            "grid_auto_rows": null,
            "grid_column": null,
            "grid_gap": null,
            "grid_row": null,
            "grid_template_areas": null,
            "grid_template_columns": null,
            "grid_template_rows": null,
            "height": null,
            "justify_content": null,
            "justify_items": null,
            "left": null,
            "margin": null,
            "max_height": null,
            "max_width": null,
            "min_height": null,
            "min_width": null,
            "object_fit": null,
            "object_position": null,
            "order": null,
            "overflow": null,
            "overflow_x": null,
            "overflow_y": null,
            "padding": null,
            "right": null,
            "top": null,
            "visibility": null,
            "width": null
          }
        },
        "232eb33320cf4d388e0730b6867ee0e7": {
          "model_module": "@jupyter-widgets/controls",
          "model_name": "DescriptionStyleModel",
          "model_module_version": "1.5.0",
          "state": {
            "_model_module": "@jupyter-widgets/controls",
            "_model_module_version": "1.5.0",
            "_model_name": "DescriptionStyleModel",
            "_view_count": null,
            "_view_module": "@jupyter-widgets/base",
            "_view_module_version": "1.2.0",
            "_view_name": "StyleView",
            "description_width": ""
          }
        },
        "69ba280470a5465795f185e579fa49bc": {
          "model_module": "@jupyter-widgets/base",
          "model_name": "LayoutModel",
          "model_module_version": "1.2.0",
          "state": {
            "_model_module": "@jupyter-widgets/base",
            "_model_module_version": "1.2.0",
            "_model_name": "LayoutModel",
            "_view_count": null,
            "_view_module": "@jupyter-widgets/base",
            "_view_module_version": "1.2.0",
            "_view_name": "LayoutView",
            "align_content": null,
            "align_items": null,
            "align_self": null,
            "border": null,
            "bottom": null,
            "display": null,
            "flex": null,
            "flex_flow": null,
            "grid_area": null,
            "grid_auto_columns": null,
            "grid_auto_flow": null,
            "grid_auto_rows": null,
            "grid_column": null,
            "grid_gap": null,
            "grid_row": null,
            "grid_template_areas": null,
            "grid_template_columns": null,
            "grid_template_rows": null,
            "height": null,
            "justify_content": null,
            "justify_items": null,
            "left": null,
            "margin": null,
            "max_height": null,
            "max_width": null,
            "min_height": null,
            "min_width": null,
            "object_fit": null,
            "object_position": null,
            "order": null,
            "overflow": null,
            "overflow_x": null,
            "overflow_y": null,
            "padding": null,
            "right": null,
            "top": null,
            "visibility": null,
            "width": null
          }
        },
        "aa1fe42f8ca14cd7aa96c03dc0452cba": {
          "model_module": "@jupyter-widgets/controls",
          "model_name": "ProgressStyleModel",
          "model_module_version": "1.5.0",
          "state": {
            "_model_module": "@jupyter-widgets/controls",
            "_model_module_version": "1.5.0",
            "_model_name": "ProgressStyleModel",
            "_view_count": null,
            "_view_module": "@jupyter-widgets/base",
            "_view_module_version": "1.2.0",
            "_view_name": "StyleView",
            "bar_color": null,
            "description_width": ""
          }
        },
        "86d137f5941f4c02b31eaa5a215ec372": {
          "model_module": "@jupyter-widgets/base",
          "model_name": "LayoutModel",
          "model_module_version": "1.2.0",
          "state": {
            "_model_module": "@jupyter-widgets/base",
            "_model_module_version": "1.2.0",
            "_model_name": "LayoutModel",
            "_view_count": null,
            "_view_module": "@jupyter-widgets/base",
            "_view_module_version": "1.2.0",
            "_view_name": "LayoutView",
            "align_content": null,
            "align_items": null,
            "align_self": null,
            "border": null,
            "bottom": null,
            "display": null,
            "flex": null,
            "flex_flow": null,
            "grid_area": null,
            "grid_auto_columns": null,
            "grid_auto_flow": null,
            "grid_auto_rows": null,
            "grid_column": null,
            "grid_gap": null,
            "grid_row": null,
            "grid_template_areas": null,
            "grid_template_columns": null,
            "grid_template_rows": null,
            "height": null,
            "justify_content": null,
            "justify_items": null,
            "left": null,
            "margin": null,
            "max_height": null,
            "max_width": null,
            "min_height": null,
            "min_width": null,
            "object_fit": null,
            "object_position": null,
            "order": null,
            "overflow": null,
            "overflow_x": null,
            "overflow_y": null,
            "padding": null,
            "right": null,
            "top": null,
            "visibility": null,
            "width": null
          }
        },
        "2e0dad29151a4924bf0aaee40f0179e1": {
          "model_module": "@jupyter-widgets/controls",
          "model_name": "DescriptionStyleModel",
          "model_module_version": "1.5.0",
          "state": {
            "_model_module": "@jupyter-widgets/controls",
            "_model_module_version": "1.5.0",
            "_model_name": "DescriptionStyleModel",
            "_view_count": null,
            "_view_module": "@jupyter-widgets/base",
            "_view_module_version": "1.2.0",
            "_view_name": "StyleView",
            "description_width": ""
          }
        },
        "ee9f736844b542b7a245b819b3305fea": {
          "model_module": "@jupyter-widgets/controls",
          "model_name": "HBoxModel",
          "model_module_version": "1.5.0",
          "state": {
            "_dom_classes": [],
            "_model_module": "@jupyter-widgets/controls",
            "_model_module_version": "1.5.0",
            "_model_name": "HBoxModel",
            "_view_count": null,
            "_view_module": "@jupyter-widgets/controls",
            "_view_module_version": "1.5.0",
            "_view_name": "HBoxView",
            "box_style": "",
            "children": [
              "IPY_MODEL_7a50db9acb4744ac811e596e868b36af",
              "IPY_MODEL_e981c549cad54114a553adacc187e79a",
              "IPY_MODEL_add1bf7719214430bb32ddf522c1364b"
            ],
            "layout": "IPY_MODEL_1b21468d2669479cb0631a9b824ec189"
          }
        },
        "7a50db9acb4744ac811e596e868b36af": {
          "model_module": "@jupyter-widgets/controls",
          "model_name": "HTMLModel",
          "model_module_version": "1.5.0",
          "state": {
            "_dom_classes": [],
            "_model_module": "@jupyter-widgets/controls",
            "_model_module_version": "1.5.0",
            "_model_name": "HTMLModel",
            "_view_count": null,
            "_view_module": "@jupyter-widgets/controls",
            "_view_module_version": "1.5.0",
            "_view_name": "HTMLView",
            "description": "",
            "description_tooltip": null,
            "layout": "IPY_MODEL_9abd1155b89444cc8b152c57a30246f8",
            "placeholder": "​",
            "style": "IPY_MODEL_060a78eb4e6b4664803a1dd43c177316",
            "value": "100%"
          }
        },
        "e981c549cad54114a553adacc187e79a": {
          "model_module": "@jupyter-widgets/controls",
          "model_name": "FloatProgressModel",
          "model_module_version": "1.5.0",
          "state": {
            "_dom_classes": [],
            "_model_module": "@jupyter-widgets/controls",
            "_model_module_version": "1.5.0",
            "_model_name": "FloatProgressModel",
            "_view_count": null,
            "_view_module": "@jupyter-widgets/controls",
            "_view_module_version": "1.5.0",
            "_view_name": "ProgressView",
            "bar_style": "success",
            "description": "",
            "description_tooltip": null,
            "layout": "IPY_MODEL_1df9857fe74e466989a20a2af336f791",
            "max": 52147035,
            "min": 0,
            "orientation": "horizontal",
            "style": "IPY_MODEL_9633e3ad5b514a0d8f05ed526b203b55",
            "value": 52147035
          }
        },
        "add1bf7719214430bb32ddf522c1364b": {
          "model_module": "@jupyter-widgets/controls",
          "model_name": "HTMLModel",
          "model_module_version": "1.5.0",
          "state": {
            "_dom_classes": [],
            "_model_module": "@jupyter-widgets/controls",
            "_model_module_version": "1.5.0",
            "_model_name": "HTMLModel",
            "_view_count": null,
            "_view_module": "@jupyter-widgets/controls",
            "_view_module_version": "1.5.0",
            "_view_name": "HTMLView",
            "description": "",
            "description_tooltip": null,
            "layout": "IPY_MODEL_4234469608e646589b59a112abac7eb8",
            "placeholder": "​",
            "style": "IPY_MODEL_cc00d3f7bf23408b80a8cc0556836e52",
            "value": " 49.7M/49.7M [00:01&lt;00:00, 57.3MB/s]"
          }
        },
        "1b21468d2669479cb0631a9b824ec189": {
          "model_module": "@jupyter-widgets/base",
          "model_name": "LayoutModel",
          "model_module_version": "1.2.0",
          "state": {
            "_model_module": "@jupyter-widgets/base",
            "_model_module_version": "1.2.0",
            "_model_name": "LayoutModel",
            "_view_count": null,
            "_view_module": "@jupyter-widgets/base",
            "_view_module_version": "1.2.0",
            "_view_name": "LayoutView",
            "align_content": null,
            "align_items": null,
            "align_self": null,
            "border": null,
            "bottom": null,
            "display": null,
            "flex": null,
            "flex_flow": null,
            "grid_area": null,
            "grid_auto_columns": null,
            "grid_auto_flow": null,
            "grid_auto_rows": null,
            "grid_column": null,
            "grid_gap": null,
            "grid_row": null,
            "grid_template_areas": null,
            "grid_template_columns": null,
            "grid_template_rows": null,
            "height": null,
            "justify_content": null,
            "justify_items": null,
            "left": null,
            "margin": null,
            "max_height": null,
            "max_width": null,
            "min_height": null,
            "min_width": null,
            "object_fit": null,
            "object_position": null,
            "order": null,
            "overflow": null,
            "overflow_x": null,
            "overflow_y": null,
            "padding": null,
            "right": null,
            "top": null,
            "visibility": null,
            "width": null
          }
        },
        "9abd1155b89444cc8b152c57a30246f8": {
          "model_module": "@jupyter-widgets/base",
          "model_name": "LayoutModel",
          "model_module_version": "1.2.0",
          "state": {
            "_model_module": "@jupyter-widgets/base",
            "_model_module_version": "1.2.0",
            "_model_name": "LayoutModel",
            "_view_count": null,
            "_view_module": "@jupyter-widgets/base",
            "_view_module_version": "1.2.0",
            "_view_name": "LayoutView",
            "align_content": null,
            "align_items": null,
            "align_self": null,
            "border": null,
            "bottom": null,
            "display": null,
            "flex": null,
            "flex_flow": null,
            "grid_area": null,
            "grid_auto_columns": null,
            "grid_auto_flow": null,
            "grid_auto_rows": null,
            "grid_column": null,
            "grid_gap": null,
            "grid_row": null,
            "grid_template_areas": null,
            "grid_template_columns": null,
            "grid_template_rows": null,
            "height": null,
            "justify_content": null,
            "justify_items": null,
            "left": null,
            "margin": null,
            "max_height": null,
            "max_width": null,
            "min_height": null,
            "min_width": null,
            "object_fit": null,
            "object_position": null,
            "order": null,
            "overflow": null,
            "overflow_x": null,
            "overflow_y": null,
            "padding": null,
            "right": null,
            "top": null,
            "visibility": null,
            "width": null
          }
        },
        "060a78eb4e6b4664803a1dd43c177316": {
          "model_module": "@jupyter-widgets/controls",
          "model_name": "DescriptionStyleModel",
          "model_module_version": "1.5.0",
          "state": {
            "_model_module": "@jupyter-widgets/controls",
            "_model_module_version": "1.5.0",
            "_model_name": "DescriptionStyleModel",
            "_view_count": null,
            "_view_module": "@jupyter-widgets/base",
            "_view_module_version": "1.2.0",
            "_view_name": "StyleView",
            "description_width": ""
          }
        },
        "1df9857fe74e466989a20a2af336f791": {
          "model_module": "@jupyter-widgets/base",
          "model_name": "LayoutModel",
          "model_module_version": "1.2.0",
          "state": {
            "_model_module": "@jupyter-widgets/base",
            "_model_module_version": "1.2.0",
            "_model_name": "LayoutModel",
            "_view_count": null,
            "_view_module": "@jupyter-widgets/base",
            "_view_module_version": "1.2.0",
            "_view_name": "LayoutView",
            "align_content": null,
            "align_items": null,
            "align_self": null,
            "border": null,
            "bottom": null,
            "display": null,
            "flex": null,
            "flex_flow": null,
            "grid_area": null,
            "grid_auto_columns": null,
            "grid_auto_flow": null,
            "grid_auto_rows": null,
            "grid_column": null,
            "grid_gap": null,
            "grid_row": null,
            "grid_template_areas": null,
            "grid_template_columns": null,
            "grid_template_rows": null,
            "height": null,
            "justify_content": null,
            "justify_items": null,
            "left": null,
            "margin": null,
            "max_height": null,
            "max_width": null,
            "min_height": null,
            "min_width": null,
            "object_fit": null,
            "object_position": null,
            "order": null,
            "overflow": null,
            "overflow_x": null,
            "overflow_y": null,
            "padding": null,
            "right": null,
            "top": null,
            "visibility": null,
            "width": null
          }
        },
        "9633e3ad5b514a0d8f05ed526b203b55": {
          "model_module": "@jupyter-widgets/controls",
          "model_name": "ProgressStyleModel",
          "model_module_version": "1.5.0",
          "state": {
            "_model_module": "@jupyter-widgets/controls",
            "_model_module_version": "1.5.0",
            "_model_name": "ProgressStyleModel",
            "_view_count": null,
            "_view_module": "@jupyter-widgets/base",
            "_view_module_version": "1.2.0",
            "_view_name": "StyleView",
            "bar_color": null,
            "description_width": ""
          }
        },
        "4234469608e646589b59a112abac7eb8": {
          "model_module": "@jupyter-widgets/base",
          "model_name": "LayoutModel",
          "model_module_version": "1.2.0",
          "state": {
            "_model_module": "@jupyter-widgets/base",
            "_model_module_version": "1.2.0",
            "_model_name": "LayoutModel",
            "_view_count": null,
            "_view_module": "@jupyter-widgets/base",
            "_view_module_version": "1.2.0",
            "_view_name": "LayoutView",
            "align_content": null,
            "align_items": null,
            "align_self": null,
            "border": null,
            "bottom": null,
            "display": null,
            "flex": null,
            "flex_flow": null,
            "grid_area": null,
            "grid_auto_columns": null,
            "grid_auto_flow": null,
            "grid_auto_rows": null,
            "grid_column": null,
            "grid_gap": null,
            "grid_row": null,
            "grid_template_areas": null,
            "grid_template_columns": null,
            "grid_template_rows": null,
            "height": null,
            "justify_content": null,
            "justify_items": null,
            "left": null,
            "margin": null,
            "max_height": null,
            "max_width": null,
            "min_height": null,
            "min_width": null,
            "object_fit": null,
            "object_position": null,
            "order": null,
            "overflow": null,
            "overflow_x": null,
            "overflow_y": null,
            "padding": null,
            "right": null,
            "top": null,
            "visibility": null,
            "width": null
          }
        },
        "cc00d3f7bf23408b80a8cc0556836e52": {
          "model_module": "@jupyter-widgets/controls",
          "model_name": "DescriptionStyleModel",
          "model_module_version": "1.5.0",
          "state": {
            "_model_module": "@jupyter-widgets/controls",
            "_model_module_version": "1.5.0",
            "_model_name": "DescriptionStyleModel",
            "_view_count": null,
            "_view_module": "@jupyter-widgets/base",
            "_view_module_version": "1.2.0",
            "_view_name": "StyleView",
            "description_width": ""
          }
        }
      }
    }
  },
  "cells": [
    {
      "cell_type": "markdown",
      "metadata": {
        "id": "view-in-github",
        "colab_type": "text"
      },
      "source": [
        "<a href=\"https://colab.research.google.com/github/vikasvr1997/fmml2021/blob/main/Lab_17.ipynb\" target=\"_parent\"><img src=\"https://colab.research.google.com/assets/colab-badge.svg\" alt=\"Open In Colab\"/></a>"
      ]
    },
    {
      "cell_type": "markdown",
      "source": [
        "# FMML Lab 17\n",
        "\n",
        "The following topics will be covered in this lab:\n",
        "1. Effect of padding, kernel size and stride\n",
        "2. Pooling\n",
        "3. Transfer learning and fine-tuning"
      ],
      "metadata": {
        "id": "aGuVyJV5w5Cd"
      }
    },
    {
      "cell_type": "markdown",
      "metadata": {
        "id": "0HjQRq6bVNtG"
      },
      "source": [
        "## 1. Effect of padding, kernel size and stride\n",
        "We will directly use convolution layer in the **Pytorch** framework. Refer [nn.Conv2d](https://pytorch.org/docs/stable/generated/torch.nn.Conv2d.html) for more information about additional parameters."
      ]
    },
    {
      "cell_type": "code",
      "metadata": {
        "id": "7RKg8qtjP6af"
      },
      "source": [
        "# Import pytorch packages\n",
        "import torch\n",
        "from torch.nn import Conv2d\n",
        "import cv2\n",
        "import numpy as np\n",
        "import matplotlib.pyplot as plt"
      ],
      "execution_count": 1,
      "outputs": []
    },
    {
      "cell_type": "code",
      "source": [
        "!curl -L -o 'lotus.jpg' 'https://drive.google.com/uc?export=download&id=1gQSQlrUws22KLRUacXwvN1G8FtIyhfGt'"
      ],
      "metadata": {
        "colab": {
          "base_uri": "https://localhost:8080/"
        },
        "id": "daLFmh6HzGIG",
        "outputId": "22aef882-822e-4cbb-a50d-27d60b52d7b9"
      },
      "execution_count": 2,
      "outputs": [
        {
          "output_type": "stream",
          "name": "stdout",
          "text": [
            "  % Total    % Received % Xferd  Average Speed   Time    Time     Time  Current\n",
            "                                 Dload  Upload   Total   Spent    Left  Speed\n",
            "  0     0    0     0    0     0      0      0 --:--:-- --:--:-- --:--:--     0\n",
            "100  2815  100  2815    0     0   2698      0  0:00:01  0:00:01 --:--:--  2698\n"
          ]
        }
      ]
    },
    {
      "cell_type": "markdown",
      "metadata": {
        "id": "QBcuce2bF0su"
      },
      "source": [
        "##### Convolution in pytorch"
      ]
    },
    {
      "cell_type": "markdown",
      "metadata": {
        "id": "xRmaXjhVCrdJ"
      },
      "source": [
        "We will define a helper function to create an square vertical edge filter of given size"
      ]
    },
    {
      "cell_type": "code",
      "metadata": {
        "id": "HX6K7F6-dHhf"
      },
      "source": [
        "def generate_filter(k=3):\n",
        "  kernel = np.ones((k, k))\n",
        "  mid_index = k // 2\n",
        "  kernel[:, mid_index].fill(0)\n",
        "  kernel[:, mid_index+1:] *= -1\n",
        "  return kernel"
      ],
      "execution_count": 3,
      "outputs": []
    },
    {
      "cell_type": "markdown",
      "metadata": {
        "id": "X25gwS1GgMGY"
      },
      "source": [
        "We will create a helper function that takes one of the kernel elements, create a Convolution layer using pytorch and return the output image"
      ]
    },
    {
      "cell_type": "code",
      "metadata": {
        "id": "-a6_FwTsgZ49"
      },
      "source": [
        "def apply_conv(image, kernel_size, padding=0, stride=1):\n",
        "\n",
        "  #--------IMAGE PREPROCESSING-------\n",
        "  # Convert image to tensor from numpy\n",
        "  image = torch.from_numpy(image)\n",
        "  # Pytorch requires input to convolution in (N,C,H,W), where N = batch size and C=#channels in input\n",
        "  input = image.view((1,1,image.shape[0], image.shape[1]))\n",
        "\n",
        "  # --------------KERNEL-------------\n",
        "  # Create a nxn kernel\n",
        "  kernel = generate_filter(kernel_size)\n",
        "\n",
        "  # Create a tensor from the numpy array\n",
        "  kernel = torch.from_numpy(kernel.astype(np.float32))\n",
        "\n",
        "  # Pytorch requires kernel of shape (N,C,H,W), where N = batch size and C=#channels in input\n",
        "  kernel = kernel.view((1,1,kernel.shape[0], kernel.shape[1]))\n",
        "\n",
        "  # ---------CONVOLUTION LAYER--------\n",
        "  #1 input image channel, 1 output channels, nxn square convolution with padding on all 4 sides\n",
        "  conv = Conv2d(in_channels=1, out_channels=1, kernel_size=kernel.shape, padding=padding, stride=stride)\n",
        "\n",
        "  # Set the kernel weights in the convolution layer\n",
        "  conv.weight = torch.nn.Parameter(kernel)\n",
        "  \n",
        "  # ---------APPLY CONVOLUTION--------\n",
        "  output = conv(input / 255.)  # Getting input from 0 to 1\n",
        "  output_img = output.data.numpy()  # Tensor to back in numpy\n",
        "  output_img = output_img.reshape((-1, output_img.shape[-1])) # Reshape to 2D image\n",
        "\n",
        "  return output_img"
      ],
      "execution_count": 4,
      "outputs": []
    },
    {
      "cell_type": "markdown",
      "metadata": {
        "id": "d6-_WvVRdp6l"
      },
      "source": [
        "##### Effect of Padding\n",
        "Change the padding value with the slider. What do you observe?"
      ]
    },
    {
      "cell_type": "code",
      "metadata": {
        "colab": {
          "base_uri": "https://localhost:8080/",
          "height": 296
        },
        "id": "ehT5KaDJeESD",
        "outputId": "9520edd5-e373-49df-bf1b-6ea62aea337e"
      },
      "source": [
        "#@title Effect of padding { run: \"auto\", vertical-output: true, display-mode: \"both\" }\n",
        "\n",
        "# Note:After running this cell manually, it will auto-run if you \n",
        "# change the selected value.\n",
        "\n",
        "# Our original lotus image\n",
        "image = cv2.imread('lotus.jpg', 0)\n",
        "\n",
        "\n",
        "# Apply 3x3 convolution to image with given padding 1 on all 4 sides\n",
        "padding = 5 #@param {type:\"slider\", min:1, max:20, step:1}\n",
        "n = apply_conv(image, 3, padding=padding)\n",
        "\n",
        "# Plot the results\n",
        "plt.imshow(n, cmap='gray')\n",
        "plt.title('Padding={}\\nShape: {}'.format(padding, str(n.shape)))\n",
        "plt.show()"
      ],
      "execution_count": 5,
      "outputs": [
        {
          "output_type": "display_data",
          "data": {
            "text/plain": [
              "<Figure size 432x288 with 1 Axes>"
            ],
            "image/png": "[encoded data removed]"
          },
          "metadata": {
            "needs_background": "light"
          }
        }
      ]
    },
    {
      "cell_type": "markdown",
      "metadata": {
        "id": "ZyFlTUw7exTI"
      },
      "source": [
        "As you observed, the output shape changes with padding. More the padding, bigger will be the image."
      ]
    },
    {
      "cell_type": "markdown",
      "metadata": {
        "id": "ZVThLy3OfBi4"
      },
      "source": [
        "##### Effect of Kernel size\n",
        "Change the kernel size with the slider. What do you observe?"
      ]
    },
    {
      "cell_type": "code",
      "metadata": {
        "colab": {
          "base_uri": "https://localhost:8080/",
          "height": 296
        },
        "id": "BYoc2xwTlBj_",
        "outputId": "bc1ccc80-083f-4181-d1ff-89a6fe0f706a"
      },
      "source": [
        "#@title Effect of Kernel size { run: \"auto\", vertical-output: true, display-mode: \"both\" }\n",
        "# Our original lotus image\n",
        "image = cv2.imread('lotus.jpg', 0)\n",
        "\n",
        "# Apply 3x3 convolution to image\n",
        "K = 3 #@param {type:\"slider\", min:3, max:21, step:2}\n",
        "n = apply_conv(image, K)\n",
        "\n",
        "# Plot result\n",
        "plt.imshow(n, cmap='gray')\n",
        "plt.title('K = {}\\nShape = {}'.format(K, str(n.shape)))\n",
        "plt.show()"
      ],
      "execution_count": null,
      "outputs": [
        {
          "output_type": "display_data",
          "data": {
            "text/plain": [
              "<Figure size 432x288 with 1 Axes>"
            ],
            "image/png": "[encoded data removed]"
          },
          "metadata": {
            "needs_background": "light"
          }
        }
      ]
    },
    {
      "cell_type": "markdown",
      "metadata": {
        "id": "2oKNN4gBnzOc"
      },
      "source": [
        "Thus, we conclude that output image becomes blurry with increase in kernel size as summation occurs over larger neighbourhood. Smaller kernel size is used to capture details whereas larger kernel captures bigger elements in image."
      ]
    },
    {
      "cell_type": "markdown",
      "metadata": {
        "id": "3DJoZNQOmlT3"
      },
      "source": [
        "##### Effect of Stride\n",
        "Change the stride value with the slider. What do you observe?"
      ]
    },
    {
      "cell_type": "code",
      "metadata": {
        "colab": {
          "base_uri": "https://localhost:8080/",
          "height": 296
        },
        "id": "zISU25SBj1O7",
        "outputId": "a6316580-3870-45a6-b3c9-c7736f5fe4ea"
      },
      "source": [
        "#@title Effect of Stride { run: \"auto\", vertical-output: true, display-mode: \"both\" }\n",
        "# Our original lotus image\n",
        "image = cv2.imread('lotus.jpg', 0)\n",
        "\n",
        "# Apply 3x3 convolution to image\n",
        "stride = 1 #@param {type:\"slider\", min:1, max:10, step:1}\n",
        "n = apply_conv(image, 3, stride=stride)\n",
        "\n",
        "# Plot result\n",
        "plt.imshow(n, cmap='gray')\n",
        "plt.title('Stride = {}\\nShape = {}'.format(stride, str(n.shape)))\n",
        "plt.show()"
      ],
      "execution_count": 6,
      "outputs": [
        {
          "output_type": "display_data",
          "data": {
            "text/plain": [
              "<Figure size 432x288 with 1 Axes>"
            ],
            "image/png": "[encoded data removed]"
          },
          "metadata": {
            "needs_background": "light"
          }
        }
      ]
    },
    {
      "cell_type": "markdown",
      "metadata": {
        "id": "CNSTgzuYoY29"
      },
      "source": [
        "As we can see, the output becomes pixelated as strides increase because we have fewer values in the output by skipping pixels in input. Also, hence size of output decreases. "
      ]
    },
    {
      "cell_type": "markdown",
      "source": [
        "### Questions\n",
        "\n",
        "1. Does increasing stride increase output image size?\n",
        "\n",
        "Answer) No. Increasing stride decreases output image size.\n",
        "\n",
        "2. Does increasing padding increase output image size?\n",
        "\n",
        "Answer) yes. increasing padding increase output image size"
      ],
      "metadata": {
        "id": "SQcT-SyR8LPS"
      }
    },
    {
      "cell_type": "markdown",
      "metadata": {
        "id": "IWI03dYYR2xf"
      },
      "source": [
        "## 2. Pooling\n",
        "Strides, actually downsample the image but a more robust and common approach is pooling. It may be useful when we do not require finer details but important structural elements. Here, we will see an example of max pooling and average pooling on a simple 2D image matrix. Refer [nn.MaxPool2d](https://pytorch.org/docs/stable/generated/torch.nn.MaxPool2d.html) and [nn.AvgPool2d](https://pytorch.org/docs/stable/generated/torch.nn.AvgPool2d.html) for the documentation.\n",
        "\n"
      ]
    },
    {
      "cell_type": "markdown",
      "metadata": {
        "id": "TVOCZ80mnrdf"
      },
      "source": [
        "Max Pooling & Average Pooling"
      ]
    },
    {
      "cell_type": "code",
      "metadata": {
        "id": "lD1mlfc8JOjs",
        "colab": {
          "base_uri": "https://localhost:8080/",
          "height": 350
        },
        "outputId": "7eb5e77c-bf36-4458-b80d-19d44f6f15ff"
      },
      "source": [
        "from torch.nn import MaxPool2d, AvgPool2d\n",
        "import warnings\n",
        "warnings.filterwarnings('ignore')\n",
        "\n",
        "\n",
        "def plot_images(images, titles, tick_params=True):\n",
        "  n = len(images)\n",
        "  fig = plt.figure(figsize=(10,4))\n",
        "  for i in range(n):\n",
        "    ax = fig.add_subplot(1,n,i+1)\n",
        "    if len(images[i].shape) == 2:\n",
        "      ax.imshow(images[i], cmap='gray', \n",
        "                extent=(0,images[i].shape[1], images[i].shape[0], 0))\n",
        "    else:\n",
        "      ax.imshow(images[i])\n",
        "    ax.set_title(titles[i])\n",
        "    if not tick_params:\n",
        "      plt.tick_params(axis='both', labelbottom=False, bottom=False, \n",
        "                labelleft=False, left=False)\n",
        "  plt.show()\n",
        "\n",
        "\n",
        "# 2D image\n",
        "image = np.array([\n",
        "   \t\t[2, 0, 0, 1, 6, 0, 5, 3],\n",
        "\t\t[0, 6, 5, 9, 1, 5, 8, 0],\n",
        "\t\t[0, 6, 0, 1, 2, 3, 4, 4],\n",
        "\t\t[7, 0, 3, 1, 4, 2, 0, 1],\n",
        "\t\t[3, 7, 0, 5, 6, 0, 5, 0],\n",
        "\t\t[0, 4, 6, 1, 1, 0, 0, 1],\n",
        "\t\t[3, 5, 0, 2, 2, 0, 9, 0],\n",
        "\t\t[1, 0, 3, 1, 7, 0, 0, 0]])\n",
        "\n",
        "# Saving output for plots\n",
        "output = []\n",
        "titles = []\n",
        "\n",
        "output.append(image)\n",
        "titles.append('Image')\n",
        "\n",
        "image = torch.from_numpy(image.astype(np.float32))\n",
        "input = image.view((1,1,image.shape[0], image.shape[1]))\n",
        "\n",
        "#----------MAX POOLING LAYER--------\n",
        "pool_layer = MaxPool2d(kernel_size=4, stride=4)\n",
        "op = pool_layer(input)\n",
        "max_output_img = op.data.numpy()  # Tensor to back in numpy\n",
        "max_output_img = max_output_img.reshape((-1, max_output_img.shape[-1]))\n",
        "print('Max Pooling:\\n', max_output_img)\n",
        "print()\n",
        "output.append(max_output_img)\n",
        "titles.append('Max Pool output')\n",
        "\n",
        "#----------AVERAGE POOLING LAYER--------\n",
        "pool_layer = AvgPool2d(kernel_size=4, stride=4)\n",
        "op = pool_layer(input)\n",
        "avg_output_img = op.data.numpy()  # Tensor to back in numpy\n",
        "avg_output_img = avg_output_img.reshape((-1, avg_output_img.shape[-1]))\n",
        "print('Avg Pooling:\\n',avg_output_img)\n",
        "print()\n",
        "\n",
        "output.append(avg_output_img)\n",
        "titles.append('Avg Pool output')\n",
        "\n",
        "plot_images(output, titles, tick_params=False)"
      ],
      "execution_count": 7,
      "outputs": [
        {
          "output_type": "stream",
          "name": "stdout",
          "text": [
            "Max Pooling:\n",
            " [[9. 8.]\n",
            " [7. 9.]]\n",
            "\n",
            "Avg Pooling:\n",
            " [[2.5625 3.    ]\n",
            " [2.5625 1.9375]]\n",
            "\n"
          ]
        },
        {
          "output_type": "display_data",
          "data": {
            "text/plain": [
              "<Figure size 720x288 with 3 Axes>"
            ],
            "image/png": "[encoded data removed]"
          },
          "metadata": {}
        }
      ]
    },
    {
      "cell_type": "markdown",
      "source": [
        "### Questions\n",
        "\n",
        "1. Can you think of any other pooling other than max and avg?\n",
        "\n",
        "Answer) Min, Square-Root Pooling"
      ],
      "metadata": {
        "id": "cp9yq6LM8mBF"
      }
    },
    {
      "cell_type": "markdown",
      "metadata": {
        "id": "xQqIVNVYnA90"
      },
      "source": [
        "## 3. Fine-tuning and transfer learning\n",
        "\n",
        "Now , we will perform image classification using pretrained CNN models (transfer learning). We will understand two approaches, Fine-tuning and Feature extraction using ResNet architecture to train a model to perform traffic sign classification.\n",
        "\n",
        "To make your task easier, we provide you the starter code to perform the lab exercises. It is expected that you should try to understand what the code does and analyze the output. We will be using Pytorch framework for the implementation of this lab. The training hyperparameters that are used in the code may not be the best to minimize training time according to lab scope. "
      ]
    },
    {
      "cell_type": "markdown",
      "metadata": {
        "id": "p7KBF9XrGaSy"
      },
      "source": [
        "### German Traffic Sign classification\n",
        "When a task involves training a CNN on a dataset of images, our first instinct would be to train the network from scratch. However, in practice, CNN has a huge number of parameters, often in the range of millions. Training a CNN on a small dataset greatly affects the network's ability to generalize, often resulting in overfitting.\n",
        "Therefore, in practice, one would fine-tune existing networks that are trained on a large dataset like the ImageNet (1.2M labeled images) by continue training it (i.e. running back-propagation) on the smaller dataset we have. Provided that our dataset is not drastically different in context to the original dataset (e.g. ImageNet), the pre-trained model will already have learned features that are relevant to our own classification problem.  Here, we will understand the Fine-tuning and Feature extraction approach to transfer learning. In the first one, we will take a pretrained ResNet model and replace the classifier to train it on our dataset. In the second approach, we will freeze the weights of the entire network except the classifier and train it on our data. We will thus, analyse the model performance in both cases. The German Traffic Sign Recognition Benchmark (GTSRB) dataset contains 43 classes of traffic signs, with varying light conditions and rich backgrounds."
      ]
    },
    {
      "cell_type": "code",
      "metadata": {
        "id": "aWJa9NQvSdr8"
      },
      "source": [
        "# Import packages\n",
        "import torch\n",
        "import torchvision\n",
        "import torchvision.transforms as transforms\n",
        "from torchvision.datasets import ImageFolder\n",
        "from torch.utils.data import DataLoader, SubsetRandomSampler\n",
        "import torch.nn as nn\n",
        "from torch import optim\n",
        "import torch.nn.functional as F\n",
        "\n",
        "import matplotlib.pyplot as plt\n",
        "import numpy as np\n",
        "import time\n"
      ],
      "execution_count": 8,
      "outputs": []
    },
    {
      "cell_type": "code",
      "metadata": {
        "id": "dHCZ__V1uK5R",
        "colab": {
          "base_uri": "https://localhost:8080/"
        },
        "outputId": "8e16c525-3a2a-48fc-fcb3-1b4d30483d6e"
      },
      "source": [
        "# Device configuration (whether to run on GPU or CPU)\n",
        "device = torch.device('cuda' if torch.cuda.is_available() else 'cpu')\n",
        "print(device)"
      ],
      "execution_count": 10,
      "outputs": [
        {
          "output_type": "stream",
          "name": "stdout",
          "text": [
            "cuda\n"
          ]
        }
      ]
    },
    {
      "cell_type": "code",
      "metadata": {
        "id": "W4748CHsYoI2"
      },
      "source": [
        "# Set seeds for reproducibility\n",
        "seed = 0\n",
        "np.random.seed(seed)\n",
        "torch.manual_seed(seed)\n",
        "torch.cuda.manual_seed(seed)\n",
        "torch.backends.cudnn.deterministic = True"
      ],
      "execution_count": 11,
      "outputs": []
    },
    {
      "cell_type": "markdown",
      "metadata": {
        "id": "up9pTZ_fuROx"
      },
      "source": [
        "### Load German Traffic Sign dataset\n",
        "To get an idea of using our own datasets with Pytorch, this time, we will not use Pytorch's builtin datasets. The dataset we will use has more than 50K samples. To make the scenario more realistic, the number of samples in each class is limited to 200 only. And we have also reduced the test set."
      ]
    },
    {
      "cell_type": "code",
      "source": [
        "!gdown --id 1V7dt70fz_AKRJlttyjnrtFpuJDLXr15x"
      ],
      "metadata": {
        "colab": {
          "base_uri": "https://localhost:8080/"
        },
        "id": "dHm9cbhE2I5l",
        "outputId": "dd2d44cc-e91d-4637-a1df-daaf8b8f5578"
      },
      "execution_count": 12,
      "outputs": [
        {
          "output_type": "stream",
          "name": "stdout",
          "text": [
            "/usr/local/lib/python3.7/dist-packages/gdown/cli.py:131: FutureWarning: Option `--id` was deprecated in version 4.3.1 and will be removed in 5.0. You don't need to pass it anymore to use a file ID.\n",
            "  category=FutureWarning,\n",
            "Downloading...\n",
            "From: https://drive.google.com/uc?id=1V7dt70fz_AKRJlttyjnrtFpuJDLXr15x\n",
            "To: /content/german_traffic_signs_dataset.zip\n",
            "100% 68.2M/68.2M [00:01<00:00, 58.0MB/s]\n"
          ]
        }
      ]
    },
    {
      "cell_type": "code",
      "metadata": {
        "id": "1d13S9bwuiQy"
      },
      "source": [
        "# Unzip\n",
        "!unzip -q german_traffic_signs_dataset.zip"
      ],
      "execution_count": 13,
      "outputs": []
    },
    {
      "cell_type": "markdown",
      "metadata": {
        "id": "9HQXR2nRP3HJ"
      },
      "source": [
        "The dataset is stored in a folder structure where samples are separated in classwise folders. We can load the entire dataset using Pytorch's ['ImageFolder'](https://pytorch.org/vision/stable/datasets.html#ImageFolder) class. Then, we can see it like any built-in dataset. As the images are of varying shape, we will resize them to fixed dimensions (224,224) and normalize them in range [0,1]. We will here use data augmentation techniques like Gaussian blur and affine transformation to augment the data. This will increase variations in our data and help our model to generalize well."
      ]
    },
    {
      "cell_type": "code",
      "metadata": {
        "id": "6_183iPGunN4"
      },
      "source": [
        "transform = transforms.Compose([\n",
        "            transforms.Resize((224, 224)),\n",
        "            transforms.GaussianBlur(3),\n",
        "            transforms.RandomAffine(0, translate=(0.3,0.3), shear=5),\n",
        "            transforms.ToTensor(),\n",
        "            transforms.Normalize((0.5, 0.5, 0.5), (0.5, 0.5, 0.5))])\n",
        "\n",
        "trainset = ImageFolder('german_traffic_signs_dataset/Train', transform=transform)\n",
        "testset = ImageFolder('german_traffic_signs_dataset/Test', transform=transform)"
      ],
      "execution_count": 14,
      "outputs": []
    },
    {
      "cell_type": "markdown",
      "metadata": {
        "id": "k1yRmcSCu4Yu"
      },
      "source": [
        "#### Train, validation and test dataloaders\n",
        "We will split the trainset further to create train-validation split. We will only train on train data and evaluate the model on validation data at each step. The validation metrics helps us to understand whether model is overfitting the data or not."
      ]
    },
    {
      "cell_type": "code",
      "metadata": {
        "id": "0GomEiTYu1rI"
      },
      "source": [
        "# Shuffle and split train set into 80% training and 20% validation set\n",
        "val_split = 0.2\n",
        "indices = np.arange(len(trainset))\n",
        "np.random.shuffle(indices)\n",
        "partition = int((1-val_split)*len(trainset))\n",
        "\n",
        "#SubsetRandomSampler will only sample examples from the given subset of data\n",
        "train_loader = DataLoader(trainset, shuffle=False, sampler=SubsetRandomSampler(indices[:partition]), batch_size=64, num_workers=2)\n",
        "val_loader = DataLoader(trainset, shuffle=False, sampler=SubsetRandomSampler(indices[partition:]), batch_size=64, num_workers=2)\n",
        "\n",
        "dataloaders = {'train': train_loader, 'val': val_loader}\n",
        "dataset_sizes = {'train': partition, 'val': len(train_loader.dataset) - partition}\n",
        "\n",
        "test_loader = DataLoader(testset, shuffle=False, batch_size=64, num_workers=2)"
      ],
      "execution_count": 15,
      "outputs": []
    },
    {
      "cell_type": "code",
      "metadata": {
        "colab": {
          "base_uri": "https://localhost:8080/"
        },
        "id": "GxDtEgIZvI6r",
        "outputId": "2cc76933-a559-49a3-8c29-5eb339ade60f"
      },
      "source": [
        "# Print dataset information\n",
        "print('Number of training images: ', dataset_sizes['train'])\n",
        "print('Number of validation images: ', dataset_sizes['val'])\n",
        "print('Number of test images: ', len(test_loader.dataset))\n",
        "print('Number of classes: ', len(trainset.classes))"
      ],
      "execution_count": 16,
      "outputs": [
        {
          "output_type": "stream",
          "name": "stdout",
          "text": [
            "Number of training images:  6880\n",
            "Number of validation images:  1720\n",
            "Number of test images:  2000\n",
            "Number of classes:  43\n"
          ]
        }
      ]
    },
    {
      "cell_type": "code",
      "metadata": {
        "colab": {
          "base_uri": "https://localhost:8080/",
          "height": 269
        },
        "id": "0cno25cLvNV-",
        "outputId": "ca91552b-cd4e-417d-8509-a5d78d1ecf4d"
      },
      "source": [
        "# Helper function to show an image\n",
        "def plot_image(img):\n",
        "    img = img / 2 + 0.5                         # unnormalize the image\n",
        "    npimg = img.numpy()                         # torch to numpy\n",
        "    plt.imshow(np.transpose(npimg, (1, 2, 0)))  # as torch image is (C, H, W)\n",
        "    plt.show()\n",
        "\n",
        "\n",
        "# Get some random training images from dataloader\n",
        "dataiter = iter(train_loader)\n",
        "images, labels = dataiter.next()\n",
        "\n",
        "# Plot images\n",
        "plot_image(torchvision.utils.make_grid(images[:20], nrow=5))"
      ],
      "execution_count": 17,
      "outputs": [
        {
          "output_type": "display_data",
          "data": {
            "text/plain": [
              "<Figure size 432x288 with 1 Axes>"
            ],
            "image/png": "[encoded data removed]"
          },
          "metadata": {
            "needs_background": "light"
          }
        }
      ]
    },
    {
      "cell_type": "markdown",
      "metadata": {
        "id": "k8xz7oSyvUCu"
      },
      "source": [
        "Helper functions for training/testing"
      ]
    },
    {
      "cell_type": "code",
      "metadata": {
        "id": "wJKu5vTyaF-C"
      },
      "source": [
        "def train_model(model, criterion, optimizer, dataloaders, num_epochs=10):\n",
        "    since = time.time()\n",
        "\n",
        "    # best_model_wts = copy.deepcopy(model.state_dict())\n",
        "    best_acc = 0.0\n",
        "\n",
        "    train_losses = []\n",
        "    train_acc = []\n",
        "    val_losses = []\n",
        "    val_acc = []\n",
        "\n",
        "    for epoch in range(num_epochs):\n",
        "        print('Epoch {}/{}'.format(epoch, num_epochs - 1))\n",
        "        print('-' * 10)\n",
        "\n",
        "        # Each epoch has a training and validation phase\n",
        "        for phase in ['train', 'val']:\n",
        "            if phase == 'train':\n",
        "                model.train()  # Set model to training mode\n",
        "            else:\n",
        "                model.eval()   # Set model to evaluate mode\n",
        "\n",
        "            running_loss = 0.0\n",
        "            running_corrects = 0\n",
        "\n",
        "            # Iterate over data.\n",
        "            for inputs, labels in dataloaders[phase]:\n",
        "                inputs = inputs.to(device)\n",
        "                labels = labels.to(device)\n",
        "\n",
        "                # Zero the parameter gradients\n",
        "                optimizer.zero_grad()\n",
        "\n",
        "                # Forward\n",
        "                # Enable grads if only in train\n",
        "                with torch.set_grad_enabled(phase == 'train'):\n",
        "                    outputs = model(inputs)\n",
        "                    _, preds = torch.max(outputs, 1)\n",
        "                    loss = criterion(outputs, labels)\n",
        "\n",
        "                    # Backward + optimize only if in training phase\n",
        "                    if phase == 'train':\n",
        "                        loss.backward()\n",
        "                        optimizer.step()\n",
        "\n",
        "                # Running loss and correct predictions\n",
        "                running_loss += loss.item() * inputs.size(0)\n",
        "                running_corrects += torch.sum(preds == labels.data)\n",
        "\n",
        "            epoch_loss = running_loss / dataset_sizes[phase]\n",
        "            epoch_acc = running_corrects.double() / dataset_sizes[phase]\n",
        "\n",
        "            # Save loss and acc values\n",
        "            if phase == 'train':\n",
        "              train_losses.append(epoch_loss)\n",
        "              train_acc.append(epoch_acc)\n",
        "            else:\n",
        "              val_losses.append(epoch_loss)\n",
        "              val_acc.append(epoch_acc)\n",
        "\n",
        "            print('{} Loss: {:.4f} Acc: {:.4f}'.format(\n",
        "                phase, epoch_loss, epoch_acc*100))\n",
        "\n",
        "            # Save the best validation accuracy\n",
        "            if phase == 'val' and epoch_acc > best_acc:\n",
        "                best_acc = epoch_acc\n",
        "\n",
        "        print()\n",
        "\n",
        "    time_elapsed = time.time() - since\n",
        "    print('Training complete in {:.0f}m {:.0f}s'.format(\n",
        "        time_elapsed // 60, time_elapsed % 60))\n",
        "    print('Best val Acc: {:4f}'.format(best_acc*100))\n",
        "\n",
        "    return train_losses, val_losses, train_acc, val_acc"
      ],
      "execution_count": 18,
      "outputs": []
    },
    {
      "cell_type": "code",
      "metadata": {
        "id": "eZWTjtDwb8L_"
      },
      "source": [
        "def test_model(model, test_loader):\n",
        "    model.eval()\n",
        "    test_acc = 0\n",
        "    correct = 0\n",
        "    for i, (images, labels) in enumerate(test_loader):\n",
        "      with torch.no_grad():\n",
        "        images, labels = images.to(device), labels.to(device)\n",
        "        output = model(images)\n",
        "        _, preds = torch.max(output, dim=1)\n",
        "        correct += (preds == labels).sum()\n",
        "\n",
        "    test_acc = correct / len(test_loader.dataset)\n",
        "    print('Test Accuracy: {:.4f}'.format(test_acc*100))"
      ],
      "execution_count": 19,
      "outputs": []
    },
    {
      "cell_type": "markdown",
      "source": [
        "**Now we will compare the accuacies of Fine Tuning and Feature Extraction**\n",
        "\n",
        "In finetuning, we start with a pretrained model and update all of the model's parameters for our new task, in essence retraining the whole model. In feature extraction, we start with a pretrained model and only update the final layer weights from which we derive predictions."
      ],
      "metadata": {
        "id": "977Q2WZmp5gU"
      }
    },
    {
      "cell_type": "markdown",
      "metadata": {
        "id": "QExzv8covZIR"
      },
      "source": [
        "### 1. Finetuning\n",
        "Here, we will load a pretrained model ResNet18 available in Pytorch and reset final fully connected layer. The model is trained on ImageNet dataset which is a large dataset containing 1000 classes."
      ]
    },
    {
      "cell_type": "code",
      "metadata": {
        "id": "4hG2XitCvX4B",
        "colab": {
          "base_uri": "https://localhost:8080/",
          "height": 86,
          "referenced_widgets": [
            "ab78d6c552aa4bf394ac1e65d3c9bf92",
            "5c9218a8b8914a3d833eaf450cb0b98e",
            "9738b0de418d40348b2a41e9529537fb",
            "901b3b03bc9a46419543f04c9de70c90",
            "c477c01abe7845cdbd01356a09c25bea",
            "6ce93ca625984577bf52903362f47ed5",
            "232eb33320cf4d388e0730b6867ee0e7",
            "69ba280470a5465795f185e579fa49bc",
            "aa1fe42f8ca14cd7aa96c03dc0452cba",
            "86d137f5941f4c02b31eaa5a215ec372",
            "2e0dad29151a4924bf0aaee40f0179e1"
          ]
        },
        "outputId": "e7501aba-f865-4281-cdcb-6f947534c979"
      },
      "source": [
        "# Load pretrained model\n",
        "model = torchvision.models.resnet18(pretrained=True)\n",
        "\n",
        "# Reset classifier to 43 output units (number of classes in our dataset)\n",
        "model.fc = nn.Linear(model.fc.in_features, 43)\n",
        "model = model.to(device)"
      ],
      "execution_count": 20,
      "outputs": [
        {
          "output_type": "stream",
          "name": "stderr",
          "text": [
            "Downloading: \"https://download.pytorch.org/models/resnet18-f37072fd.pth\" to /root/.cache/torch/hub/checkpoints/resnet18-f37072fd.pth\n"
          ]
        },
        {
          "output_type": "display_data",
          "data": {
            "text/plain": [
              "  0%|          | 0.00/44.7M [00:00<?, ?B/s]"
            ],
            "application/vnd.jupyter.widget-view+json": {
              "version_major": 2,
              "version_minor": 0,
              "model_id": "ab78d6c552aa4bf394ac1e65d3c9bf92"
            }
          },
          "metadata": {}
        }
      ]
    },
    {
      "cell_type": "markdown",
      "metadata": {
        "id": "yC999ilMTx52"
      },
      "source": [
        "#### Define loss function"
      ]
    },
    {
      "cell_type": "code",
      "metadata": {
        "id": "p2Sey-3y3UKJ"
      },
      "source": [
        "# Cross Entropy loss for multi-class classification\n",
        "criterion = nn.CrossEntropyLoss()"
      ],
      "execution_count": 21,
      "outputs": []
    },
    {
      "cell_type": "markdown",
      "metadata": {
        "id": "h7YjI7Y0T1f2"
      },
      "source": [
        "#### Define optimizer"
      ]
    },
    {
      "cell_type": "code",
      "metadata": {
        "id": "lNjCtOyBT419"
      },
      "source": [
        "# SGD optimizer with momentum\n",
        "optimizer = optim.SGD(model.parameters(), lr=0.001, momentum=0.9)"
      ],
      "execution_count": 22,
      "outputs": []
    },
    {
      "cell_type": "markdown",
      "metadata": {
        "id": "EgpDdgB0wGAU"
      },
      "source": [
        "#### Training"
      ]
    },
    {
      "cell_type": "code",
      "metadata": {
        "colab": {
          "base_uri": "https://localhost:8080/"
        },
        "id": "XaC-PUeNv8xJ",
        "outputId": "1c772c9f-461d-489b-ccd4-759bc5e89abd"
      },
      "source": [
        "# Accuracy on test data before training\n",
        "test_model(model, test_loader)"
      ],
      "execution_count": 23,
      "outputs": [
        {
          "output_type": "stream",
          "name": "stdout",
          "text": [
            "Test Accuracy: 2.7000\n"
          ]
        }
      ]
    },
    {
      "cell_type": "code",
      "metadata": {
        "colab": {
          "base_uri": "https://localhost:8080/"
        },
        "id": "7p5M87hTv9E7",
        "outputId": "4c9ccc35-1a30-4020-a5de-8a5a0f300889"
      },
      "source": [
        "history = train_model(model, criterion, optimizer, dataloaders, num_epochs=6)"
      ],
      "execution_count": 24,
      "outputs": [
        {
          "output_type": "stream",
          "name": "stdout",
          "text": [
            "Epoch 0/5\n",
            "----------\n",
            "train Loss: 2.8240 Acc: 37.6890\n",
            "val Loss: 1.6828 Acc: 72.9651\n",
            "\n",
            "Epoch 1/5\n",
            "----------\n",
            "train Loss: 1.0941 Acc: 84.9855\n",
            "val Loss: 0.5997 Acc: 93.3721\n",
            "\n",
            "Epoch 2/5\n",
            "----------\n",
            "train Loss: 0.4312 Acc: 96.7442\n",
            "val Loss: 0.2799 Acc: 97.9070\n",
            "\n",
            "Epoch 3/5\n",
            "----------\n",
            "train Loss: 0.2090 Acc: 98.9244\n",
            "val Loss: 0.1362 Acc: 99.3605\n",
            "\n",
            "Epoch 4/5\n",
            "----------\n",
            "train Loss: 0.1244 Acc: 99.3605\n",
            "val Loss: 0.0847 Acc: 99.4186\n",
            "\n",
            "Epoch 5/5\n",
            "----------\n",
            "train Loss: 0.0845 Acc: 99.6366\n",
            "val Loss: 0.0605 Acc: 99.6512\n",
            "\n",
            "Training complete in 4m 58s\n",
            "Best val Acc: 99.651163\n"
          ]
        }
      ]
    },
    {
      "cell_type": "markdown",
      "metadata": {
        "id": "a6ltVbRI4dr6"
      },
      "source": [
        "Plot training plots"
      ]
    },
    {
      "cell_type": "code",
      "metadata": {
        "colab": {
          "base_uri": "https://localhost:8080/",
          "height": 296
        },
        "id": "wPJHC1_tIFAr",
        "outputId": "470c86c6-fed2-4478-bc36-eebc81383d22"
      },
      "source": [
        "fig = plt.figure(figsize=(10,4))\n",
        "ax = fig.add_subplot(1,2, 1)\n",
        "ax.plot(np.arange(1,len(history[0])+1),history[0])\n",
        "ax.plot(np.arange(1,len(history[1])+1),history[1])\n",
        "plt.xlabel('Loss')\n",
        "plt.ylabel('Epochs')\n",
        "plt.legend(['Train Loss', 'Val Loss'])"
      ],
      "execution_count": 25,
      "outputs": [
        {
          "output_type": "execute_result",
          "data": {
            "text/plain": [
              "<matplotlib.legend.Legend at 0x7f539dfb95d0>"
            ]
          },
          "metadata": {},
          "execution_count": 25
        },
        {
          "output_type": "display_data",
          "data": {
            "text/plain": [
              "<Figure size 720x288 with 1 Axes>"
            ],
            "image/png": "[encoded data removed]"
          },
          "metadata": {
            "needs_background": "light"
          }
        }
      ]
    },
    {
      "cell_type": "markdown",
      "metadata": {
        "id": "nhVyadHIU9FY"
      },
      "source": [
        "#### Evaluate model"
      ]
    },
    {
      "cell_type": "code",
      "metadata": {
        "colab": {
          "base_uri": "https://localhost:8080/"
        },
        "id": "o_4-zXsxVB3i",
        "outputId": "33aa968b-bd01-4fbf-8345-b18e16a047d4"
      },
      "source": [
        "# Accuracy on test data after training\n",
        "test_model(model, test_loader)"
      ],
      "execution_count": 26,
      "outputs": [
        {
          "output_type": "stream",
          "name": "stdout",
          "text": [
            "Test Accuracy: 88.4500\n"
          ]
        }
      ]
    },
    {
      "cell_type": "markdown",
      "metadata": {
        "id": "1Id93lgE1kdd"
      },
      "source": [
        "### 2. Feature Extraction\n",
        "Here, in the second approach, we will create a new instance of network and freeze entire network parameters except the final layer. We need to set ***requires_grad == False*** to freeze the parameters so that the gradients are not computed in backward()"
      ]
    },
    {
      "cell_type": "code",
      "metadata": {
        "id": "VfrJQuaVv9Hs"
      },
      "source": [
        "# Load pretrained model\n",
        "model_conv = torchvision.models.resnet18(pretrained=True)\n",
        "\n",
        "# Freeze all parameters\n",
        "for param in model_conv.parameters():\n",
        "    param.requires_grad = False\n",
        "\n",
        "# Parameters of new classifier have requires_grad=True by default\n",
        "# so grads will be computed for classifier only\n",
        "num_ftrs = model_conv.fc.in_features\n",
        "model_conv.fc = nn.Linear(num_ftrs, 43)\n",
        "\n",
        "model_conv = model_conv.to(device)\n",
        "\n",
        "# Loss function\n",
        "criterion = nn.CrossEntropyLoss()\n",
        "\n",
        "# Observe that only parameters of final layer are being optimized as opposed to before.\n",
        "optimizer_conv = optim.SGD(model_conv.fc.parameters(), lr=0.01, momentum=0.9)"
      ],
      "execution_count": 27,
      "outputs": []
    },
    {
      "cell_type": "code",
      "metadata": {
        "colab": {
          "base_uri": "https://localhost:8080/"
        },
        "id": "Cgk1ahfE17Rp",
        "outputId": "5eca0500-baa7-4b6e-fe80-166a8ec899df"
      },
      "source": [
        "# Evaluate model on test data before training\n",
        "print('Before training')\n",
        "test_model(model_conv, test_loader)"
      ],
      "execution_count": 28,
      "outputs": [
        {
          "output_type": "stream",
          "name": "stdout",
          "text": [
            "Before training\n",
            "Test Accuracy: 3.5000\n"
          ]
        }
      ]
    },
    {
      "cell_type": "markdown",
      "metadata": {
        "id": "mNC6rLI32G65"
      },
      "source": [
        "####Training"
      ]
    },
    {
      "cell_type": "code",
      "metadata": {
        "colab": {
          "base_uri": "https://localhost:8080/"
        },
        "id": "1hLRYy2rv9OS",
        "outputId": "d671d25e-190b-4ea6-9d66-9d249bda6bb4"
      },
      "source": [
        "history = train_model(model_conv, criterion, optimizer_conv, dataloaders, num_epochs=5)"
      ],
      "execution_count": 29,
      "outputs": [
        {
          "output_type": "stream",
          "name": "stdout",
          "text": [
            "Epoch 0/4\n",
            "----------\n",
            "train Loss: 2.3037 Acc: 40.9884\n",
            "val Loss: 1.3905 Acc: 63.6047\n",
            "\n",
            "Epoch 1/4\n",
            "----------\n",
            "train Loss: 1.1828 Acc: 68.7645\n",
            "val Loss: 0.9920 Acc: 74.6512\n",
            "\n",
            "Epoch 2/4\n",
            "----------\n",
            "train Loss: 0.8909 Acc: 77.5436\n",
            "val Loss: 0.8221 Acc: 77.5000\n",
            "\n",
            "Epoch 3/4\n",
            "----------\n",
            "train Loss: 0.7429 Acc: 80.7558\n",
            "val Loss: 0.6524 Acc: 83.1395\n",
            "\n",
            "Epoch 4/4\n",
            "----------\n",
            "train Loss: 0.6527 Acc: 83.0814\n",
            "val Loss: 0.6337 Acc: 83.0233\n",
            "\n",
            "Training complete in 3m 32s\n",
            "Best val Acc: 83.139535\n"
          ]
        }
      ]
    },
    {
      "cell_type": "code",
      "metadata": {
        "colab": {
          "base_uri": "https://localhost:8080/",
          "height": 296
        },
        "id": "HuSbIAfI2nnc",
        "outputId": "bd747b98-b94a-4954-dba5-d293ab6941af"
      },
      "source": [
        "fig = plt.figure(figsize=(10,4))\n",
        "ax = fig.add_subplot(1,2, 1)\n",
        "ax.plot(np.arange(1,len(history[0])+1),history[0])\n",
        "ax.plot(np.arange(1,len(history[1])+1),history[1])\n",
        "plt.xlabel('Loss')\n",
        "plt.ylabel('Epochs')\n",
        "plt.legend(['Train Loss', 'Val Loss'])"
      ],
      "execution_count": 30,
      "outputs": [
        {
          "output_type": "execute_result",
          "data": {
            "text/plain": [
              "<matplotlib.legend.Legend at 0x7f539ded30d0>"
            ]
          },
          "metadata": {},
          "execution_count": 30
        },
        {
          "output_type": "display_data",
          "data": {
            "text/plain": [
              "<Figure size 720x288 with 1 Axes>"
            ],
            "image/png": "[encoded data removed]"
          },
          "metadata": {
            "needs_background": "light"
          }
        }
      ]
    },
    {
      "cell_type": "markdown",
      "metadata": {
        "id": "CAvn3h1g2sR-"
      },
      "source": [
        "#### Evaluate model"
      ]
    },
    {
      "cell_type": "code",
      "metadata": {
        "colab": {
          "base_uri": "https://localhost:8080/"
        },
        "id": "_ylntBgw2sR_",
        "outputId": "6e7590c0-0dd9-442e-fffa-c35c0bbc0e6a"
      },
      "source": [
        "# Accuracy on test data after training\n",
        "test_model(model_conv, test_loader)"
      ],
      "execution_count": 31,
      "outputs": [
        {
          "output_type": "stream",
          "name": "stdout",
          "text": [
            "Test Accuracy: 46.4500\n"
          ]
        }
      ]
    },
    {
      "cell_type": "markdown",
      "metadata": {
        "id": "QSbdv4UPVfdp"
      },
      "source": [
        "As you can see, the test accuracy for feature extraction approach is not good compared to the first approach, although we are using pretrained models in both cases. Also, note that the training time was reduced to about half this time. This is obvious as we are not computing all the gradients this time. Experiment with the hyper-parameters like learning rate, epochs, and also optimizers till model convergence.Did you observe any improvement in the performance?"
      ]
    },
    {
      "cell_type": "markdown",
      "source": [
        "**In finetuning, we start with a pretrained model and update all of the model's parameters for our new task, in essence retraining the whole model. In feature extraction, we start with a pretrained model and only update the final layer weights from which we derive predictions.**"
      ],
      "metadata": {
        "id": "4oThLxkCkUqs"
      }
    },
    {
      "cell_type": "markdown",
      "metadata": {
        "id": "45jHKIHt6iM-"
      },
      "source": [
        "### Exercises"
      ]
    },
    {
      "cell_type": "markdown",
      "metadata": {
        "id": "-mjppKyXWKaR"
      },
      "source": [
        "Q 1: Why do you think the network did not achieve good test accuracy in the feature extraction approach?\n",
        "\n",
        "Answer: In feature extraction, we start with a pretrained model and only update the final layer weights from which we derive predictions. The parameters of Fine Tuning are updated to the deep ends of the ResNet. Therefore the accuracy of feature extraction is less."
      ]
    },
    {
      "cell_type": "markdown",
      "metadata": {
        "id": "I-FfAbYBW_qA"
      },
      "source": [
        "Q 2: Can you think of a scenario where the feature extraction approach would be preferred compared to fine tuning approach?\n",
        "\n",
        "Answer: feature extraction can work on better on the tasks which are already proven to work good with pre established deep networks\n",
        "\n",
        "1.   Object Classification\n",
        "2.   Birds classification\n",
        "\n"
      ]
    },
    {
      "cell_type": "markdown",
      "metadata": {
        "id": "PZ2TU3_uawLc"
      },
      "source": [
        "Q 3: Replace the ResNet18 architecture with some other pretrained model in pytorch and try to find the optimal parameters. Report the architecture and the final model performance.\n",
        "\n",
        "Answer: "
      ]
    },
    {
      "cell_type": "code",
      "source": [
        "# Load pretrained model\n",
        "model = torchvision.models.googlenet(pretrained=True)\n",
        "\n",
        "# Reset classifier to 43 output units (number of classes in our dataset)\n",
        "model.fc = nn.Linear(model.fc.in_features, 43)\n",
        "model = model.to(device)\n",
        "\n",
        "optimizer = optim.SGD(model.parameters(), lr=0.001, momentum=0.9)\n",
        "\n",
        "test_model(model, test_loader)\n",
        "\n",
        "history = train_model(model, criterion, optimizer, dataloaders, num_epochs=6)\n",
        "\n",
        "fig = plt.figure(figsize=(10,4))\n",
        "ax = fig.add_subplot(1,2, 1)\n",
        "ax.plot(np.arange(1,len(history[0])+1),history[0])\n",
        "ax.plot(np.arange(1,len(history[1])+1),history[1])\n",
        "plt.xlabel('Loss')\n",
        "plt.ylabel('Epochs')\n",
        "plt.legend(['Train Loss', 'Val Loss'])"
      ],
      "metadata": {
        "id": "kazC51LsswTN",
        "outputId": "cd770009-1564-47f6-e832-5ea675c3e65f",
        "colab": {
          "base_uri": "https://localhost:8080/",
          "height": 1000,
          "referenced_widgets": [
            "ee9f736844b542b7a245b819b3305fea",
            "7a50db9acb4744ac811e596e868b36af",
            "e981c549cad54114a553adacc187e79a",
            "add1bf7719214430bb32ddf522c1364b",
            "1b21468d2669479cb0631a9b824ec189",
            "9abd1155b89444cc8b152c57a30246f8",
            "060a78eb4e6b4664803a1dd43c177316",
            "1df9857fe74e466989a20a2af336f791",
            "9633e3ad5b514a0d8f05ed526b203b55",
            "4234469608e646589b59a112abac7eb8",
            "cc00d3f7bf23408b80a8cc0556836e52"
          ]
        }
      },
      "execution_count": 32,
      "outputs": [
        {
          "output_type": "stream",
          "name": "stderr",
          "text": [
            "Downloading: \"https://download.pytorch.org/models/googlenet-1378be20.pth\" to /root/.cache/torch/hub/checkpoints/googlenet-1378be20.pth\n"
          ]
        },
        {
          "output_type": "display_data",
          "data": {
            "text/plain": [
              "  0%|          | 0.00/49.7M [00:00<?, ?B/s]"
            ],
            "application/vnd.jupyter.widget-view+json": {
              "version_major": 2,
              "version_minor": 0,
              "model_id": "ee9f736844b542b7a245b819b3305fea"
            }
          },
          "metadata": {}
        },
        {
          "output_type": "stream",
          "name": "stdout",
          "text": [
            "Test Accuracy: 1.7000\n",
            "Epoch 0/5\n",
            "----------\n",
            "train Loss: 3.5594 Acc: 15.0291\n",
            "val Loss: 3.2310 Acc: 40.0000\n",
            "\n",
            "Epoch 1/5\n",
            "----------\n",
            "train Loss: 2.8170 Acc: 46.0029\n",
            "val Loss: 2.3346 Acc: 59.5930\n",
            "\n",
            "Epoch 2/5\n",
            "----------\n",
            "train Loss: 1.9765 Acc: 66.7442\n",
            "val Loss: 1.5989 Acc: 74.7093\n",
            "\n",
            "Epoch 3/5\n",
            "----------\n",
            "train Loss: 1.3427 Acc: 80.4942\n",
            "val Loss: 1.0273 Acc: 86.9186\n",
            "\n",
            "Epoch 4/5\n",
            "----------\n",
            "train Loss: 0.8800 Acc: 89.2587\n",
            "val Loss: 0.6386 Acc: 93.0233\n",
            "\n",
            "Epoch 5/5\n",
            "----------\n",
            "train Loss: 0.5671 Acc: 94.8837\n",
            "val Loss: 0.4077 Acc: 96.8023\n",
            "\n",
            "Training complete in 5m 2s\n",
            "Best val Acc: 96.802326\n"
          ]
        },
        {
          "output_type": "execute_result",
          "data": {
            "text/plain": [
              "<matplotlib.legend.Legend at 0x7f539deb2450>"
            ]
          },
          "metadata": {},
          "execution_count": 32
        },
        {
          "output_type": "display_data",
          "data": {
            "text/plain": [
              "<Figure size 720x288 with 1 Axes>"
            ],
            "image/png": "[encoded data removed]"
          },
          "metadata": {
            "needs_background": "light"
          }
        }
      ]
    },
    {
      "cell_type": "markdown",
      "metadata": {
        "id": "hOHxNtgt3qM2"
      },
      "source": [
        "Q 4: Which other data augmentations can we used to augment the data?\n",
        "\n",
        "Answer: "
      ]
    },
    {
      "cell_type": "markdown",
      "metadata": {
        "id": "fsalBk66WZIn"
      },
      "source": [
        "## References and Additional Resources:\n",
        "\n",
        "*   [Transfer Learning Pytorch tutorial](https://pytorch.org/tutorials/beginner/transfer_learning_tutorial.html#id1)\n",
        "*   [Transfer Learning with Convolutional Neural Networks in PyTorch](https://towardsdatascience.com/transfer-learning-with-convolutional-neural-networks-in-pytorch-dd09190245ce)\n",
        "*    [Torchvision models](https://pytorch.org/vision/stable/models.html)\n",
        "*    [A Comprehensive Hands-on Guide to Transfer Learning with Real-World Applications in Deep Learning](https://towardsdatascience.com/a-comprehensive-hands-on-guide-to-transfer-learning-with-real-world-applications-in-deep-learning-212bf3b2f27a)\n",
        "\n"
      ]
    }
  ]
}